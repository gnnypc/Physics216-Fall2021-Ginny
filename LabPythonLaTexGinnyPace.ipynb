{
 "cells": [
  {
   "cell_type": "code",
   "execution_count": 1,
   "id": "6473f131",
   "metadata": {},
   "outputs": [
    {
     "name": "stdout",
     "output_type": "stream",
     "text": [
      "dtotal= 1.3\n",
      "errdtotal= 0.0007071067811865475\n"
     ]
    }
   ],
   "source": [
    "import numpy as np\n",
    "\n",
    "def rule3 (da,db):\n",
    "    dQ = np.sqrt(da**2+db**2)\n",
    "    return dQ\n",
    "\n",
    "d1 = 1.0\n",
    "d2 = 0.3\n",
    "errd1 = 0.0005\n",
    "errd2 = 0.0005\n",
    "dtotal= d1+d2\n",
    "errdtotal = rule3(errd1, errd2)\n",
    "\n",
    "print(\"dtotal=\",dtotal)\n",
    "print(\"errdtotal=\",errdtotal)"
   ]
  },
  {
   "cell_type": "code",
   "execution_count": 6,
   "id": "ddd99455",
   "metadata": {},
   "outputs": [
    {
     "name": "stdout",
     "output_type": "stream",
     "text": [
      "0.015\n"
     ]
    }
   ],
   "source": [
    "def rule1 (da,c):\n",
    "    dQ = (c*da)\n",
    "    return dQ\n",
    "\n",
    "da = .005\n",
    "c = 3\n",
    "dQ = rule1(c,da)\n",
    "print (dQ)\n",
    "\n"
   ]
  },
  {
   "cell_type": "code",
   "execution_count": 3,
   "id": "33462545",
   "metadata": {},
   "outputs": [
    {
     "name": "stdout",
     "output_type": "stream",
     "text": [
      "1.1166666666666667\n",
      "0.17950549357115014\n"
     ]
    }
   ],
   "source": [
    "x = np.array([1.1,1.3,1.4,.9,.95,1.05])\n",
    "xmean = np.average(x)\n",
    "xstdev = np.std(x)\n",
    "print(xmean)\n",
    "print(xstdev)"
   ]
  },
  {
   "cell_type": "markdown",
   "id": "8fb35948",
   "metadata": {},
   "source": [
    "The average of 1.1, 1.3, 1.4, .9, .95, 1.05 is 1.1167 and the standard deviation is 0.1795"
   ]
  },
  {
   "cell_type": "markdown",
   "id": "dc451d8b",
   "metadata": {},
   "source": [
    "$\\delta Q = \\sqrt{\\delta A^2 + \\delta B^2} $"
   ]
  },
  {
   "cell_type": "markdown",
   "id": "e7f969e2",
   "metadata": {},
   "source": [
    "$\\delta v = v \\sqrt{(\\frac{1\\delta x}{x})^2 + (\\frac{-.5\n",
    "\\delta y}{y})^2} $"
   ]
  },
  {
   "cell_type": "code",
   "execution_count": 8,
   "id": "0de861a9",
   "metadata": {},
   "outputs": [
    {
     "name": "stdout",
     "output_type": "stream",
     "text": [
      "12.8\n"
     ]
    }
   ],
   "source": [
    "def rule2 (c,m,A,da):\n",
    "    dQ = (c*m*A**(m-1)*da)\n",
    "    return dQ\n",
    "\n",
    "c = 2\n",
    "m = 5\n",
    "A = 4\n",
    "da = .005\n",
    "dQ = rule2(c,m,A,da)\n",
    "print (dQ)"
   ]
  },
  {
   "cell_type": "code",
   "execution_count": 18,
   "id": "e9aed0a3",
   "metadata": {},
   "outputs": [
    {
     "name": "stdout",
     "output_type": "stream",
     "text": [
      "0.02080031396937291\n"
     ]
    }
   ],
   "source": [
    "def rule4 (Q,m,n,da,db,A,B):\n",
    "    dQ = Q*(np.sqrt(((m*da)/A)**2 + ((n*db)/B)**2))\n",
    "    return dQ\n",
    "Q=2\n",
    "m = 1\n",
    "n = 2\n",
    "da = .05\n",
    "db=.01\n",
    "A = 5\n",
    "B = 7\n",
    "dQ = rule4 (Q,m,n,da,db,A,B)\n",
    "print (dQ)"
   ]
  },
  {
   "cell_type": "code",
   "execution_count": 20,
   "id": "b55988cc",
   "metadata": {},
   "outputs": [
    {
     "name": "stdout",
     "output_type": "stream",
     "text": [
      "0.023443859565717474\n"
     ]
    }
   ],
   "source": [
    "def rule4(v,a,dM,b,dm,m,c,dR,R,d,dh,h):\n",
    "    dv= v*np.sqrt(((a*dM)/M)**2 + ((b*dm)/m)**2 + ((c*dR)/R)**2 + ((d*dh)/h)**2)\n",
    "    return dv\n",
    "v = 2.384\n",
    "a = 1\n",
    "dM = .0001\n",
    "M = .2578\n",
    "b = -1 \n",
    "dm = .0001\n",
    "m = 0.0659\n",
    "c = 1/2\n",
    "dR = 0.005\n",
    "R = .28\n",
    "d = .5\n",
    "dh = .000516\n",
    "h = .06768\n",
    "\n",
    "dv = rule4 (v,a,dM,b,dm,m,c,dR,R,d,dh,h)\n",
    "print (dv)\n"
   ]
  },
  {
   "cell_type": "code",
   "execution_count": null,
   "id": "c5bcc3b4",
   "metadata": {},
   "outputs": [],
   "source": []
  }
 ],
 "metadata": {
  "kernelspec": {
   "display_name": "Python 3",
   "language": "python",
   "name": "python3"
  },
  "language_info": {
   "codemirror_mode": {
    "name": "ipython",
    "version": 3
   },
   "file_extension": ".py",
   "mimetype": "text/x-python",
   "name": "python",
   "nbconvert_exporter": "python",
   "pygments_lexer": "ipython3",
   "version": "3.8.8"
  }
 },
 "nbformat": 4,
 "nbformat_minor": 5
}
